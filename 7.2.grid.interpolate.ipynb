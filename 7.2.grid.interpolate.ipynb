{
 "cells": [
  {
   "cell_type": "markdown",
   "metadata": {},
   "source": [
    "## Spatially interpolate modeled LFM results to fill small gaps\n",
    "Last updated: Kevin Varga, 11/27/2024\n",
    "\n",
    "**Inputs:**\n",
    "* Netcdf file of predicted LFM of all four fuels\n",
    "* WRF land-sea mask\n",
    "\n",
    "**Outputs:**\n",
    "* Netcdf file of modeled and interpolated LFM of all four fuels"
   ]
  },
  {
   "cell_type": "code",
   "execution_count": 1,
   "metadata": {},
   "outputs": [],
   "source": [
    "import xarray as xr\n",
    "import numpy as np\n",
    "import pandas as pd\n",
    "from scipy.interpolate import griddata"
   ]
  },
  {
   "cell_type": "code",
   "execution_count": 2,
   "metadata": {},
   "outputs": [],
   "source": [
    "# Set path\n",
    "grid_path = '/home/sbarc/students/varga/nasa/ch1/data/lfm_model/'"
   ]
  },
  {
   "cell_type": "code",
   "execution_count": 3,
   "metadata": {},
   "outputs": [],
   "source": [
    "# Open predicted LFM dataset\n",
    "lfm_ds = xr.open_dataset(grid_path + 'predicted_ds.nc')\n",
    "# Save fuel types\n",
    "fuels = list(lfm_ds.data_vars)\n",
    "# Save lat and lon points\n",
    "lat = lfm_ds['latitude']\n",
    "lon = lfm_ds['longitude']"
   ]
  },
  {
   "cell_type": "code",
   "execution_count": 4,
   "metadata": {
    "tags": []
   },
   "outputs": [],
   "source": [
    "# Use to identify time steps where the most nan values occur,\n",
    "# verifying that interpolation is not filling in large areas\n",
    "\n",
    "# Identify NaN values\n",
    "nan_mask = lfm_ds['chamise'].isnull()\n",
    "# Sum NaN values over each time step\n",
    "nan_count = nan_mask.sum(dim=['latitude', 'longitude'])\n",
    "# Save time step NaN counts to pandas series\n",
    "nan_count_s = nan_count.to_series()\n",
    "nan_over_15610 = nan_count_s[nan_count_s > 15610]"
   ]
  },
  {
   "cell_type": "code",
   "execution_count": 6,
   "metadata": {},
   "outputs": [],
   "source": [
    "# Open wrf land-sea mask\n",
    "land_mask = xr.open_dataarray('/home/sbarc/students/varga/nasa/ch1/data/wrf/vars/land_mask_crop.nc')\n",
    "\n",
    "# Create mask for land\n",
    "land_mask = (land_mask >= 1)\n",
    "# Convert xarray mask to 1-D numpy mask\n",
    "mask = land_mask.to_numpy().ravel()"
   ]
  },
  {
   "cell_type": "code",
   "execution_count": 45,
   "metadata": {},
   "outputs": [
    {
     "name": "stdout",
     "output_type": "stream",
     "text": [
      "started chamise\n",
      "started chamise_old_growth\n",
      "started sage_black\n",
      "started ceanothus_bigpod\n",
      "CPU times: user 9min 5s, sys: 3min 41s, total: 12min 46s\n",
      "Wall time: 8min 50s\n"
     ]
    }
   ],
   "source": [
    "%%time\n",
    "\n",
    "for fuel_type in fuels:\n",
    "    print(f'started {fuel_type}')\n",
    "    for i in range(len(lfm_ds['time'])):\n",
    "        # Ravel all points\n",
    "        data = lfm_ds[fuel_type][i,:,:].to_numpy().ravel()\n",
    "        # Mask to only land points\n",
    "        points = data[mask]\n",
    "        # Find the valid points\n",
    "        valid = ~np.isnan(points)\n",
    "        points_valid = points[valid]\n",
    "\n",
    "        # Construct arrays of (x, y) points, masked to only include the valid points\n",
    "        xx, yy = np.meshgrid(lon, lat)\n",
    "        xx, yy = xx.ravel()[mask], yy.ravel()[mask]\n",
    "        xxv = xx[valid]\n",
    "        yyv = yy[valid]\n",
    "\n",
    "        # Feed these points into the interpolator, and also provide the target grid\n",
    "        interpolated = griddata(np.stack([xxv, yyv]).T, points_valid, (xx, yy), method=\"linear\")\n",
    "\n",
    "        # Plug the interpolated values back into the original data\n",
    "        data[mask] = interpolated\n",
    "\n",
    "        # Reassign values in dataset to interpolated values\n",
    "        lfm_ds[fuel_type][i,:,:] = data.reshape(lfm_ds[fuel_type][i,:,:].shape)\n",
    "        \n",
    "# Save spatially interpolated LFM results\n",
    "lfm_ds.to_netcdf(grid_path + 'interpolated_ds.nc')"
   ]
  }
 ],
 "metadata": {
  "kernelspec": {
   "display_name": "Python (pyclivac)",
   "language": "python",
   "name": "pyclivac"
  },
  "language_info": {
   "codemirror_mode": {
    "name": "ipython",
    "version": 3
   },
   "file_extension": ".py",
   "mimetype": "text/x-python",
   "name": "python",
   "nbconvert_exporter": "python",
   "pygments_lexer": "ipython3",
   "version": "3.7.6"
  }
 },
 "nbformat": 4,
 "nbformat_minor": 4
}
