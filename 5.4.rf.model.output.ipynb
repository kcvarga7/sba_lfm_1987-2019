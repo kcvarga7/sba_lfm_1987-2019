{
 "cells": [
  {
   "cell_type": "markdown",
   "id": "3a7cf4cb-46bf-48ae-b9d5-c43b65916bd7",
   "metadata": {},
   "source": [
    "# Creation of final random forest models for individual fuel types\n",
    "Last updated: Kevin Varga, 11/27/2024\n",
    "\n",
    "**Inputs:**\n",
    "* Fuel specific dataframes with predictor variables for every LFM observation\n",
    "\n",
    "**Outputs:**\n",
    "* Fuel specific random forest models to be used for dataset creation"
   ]
  },
  {
   "cell_type": "code",
   "execution_count": 1,
   "id": "ca9d5851-06cf-4ff5-88e0-14c960a02cba",
   "metadata": {},
   "outputs": [],
   "source": [
    "import numpy as np\n",
    "import pandas as pd\n",
    "from pathlib import Path\n",
    "import joblib"
   ]
  },
  {
   "cell_type": "code",
   "execution_count": 2,
   "id": "c1e68302-0733-4844-9c20-801dcfca5a4f",
   "metadata": {},
   "outputs": [],
   "source": [
    "from sklearn.ensemble import RandomForestRegressor\n",
    "from sklearn.preprocessing import StandardScaler"
   ]
  },
  {
   "cell_type": "code",
   "execution_count": 3,
   "id": "288ed1ff-7eb6-459e-8cc1-5c6acac1b754",
   "metadata": {
    "tags": []
   },
   "outputs": [],
   "source": [
    "pred_path = '/home/sbarc/students/varga/nasa/ch1/data/site_predictors/'\n",
    "param_path = '/home/sbarc/students/varga/nasa/ch1/data/random_forest/'\n",
    "output_path = '/home/sbarc/students/varga/nasa/ch1/data/random_forest/'"
   ]
  },
  {
   "cell_type": "code",
   "execution_count": 3,
   "id": "cadeb34c-f3aa-42d2-a8e6-c8c75eae97d6",
   "metadata": {
    "tags": []
   },
   "outputs": [],
   "source": [
    "fuel_list = list(Path(pred_path).glob('*.csv'))\n",
    "# Read in hyperparameter tuning dataframe\n",
    "param_df = pd.read_csv(param_path + 'param_tuning.csv', index_col='fuel')"
   ]
  },
  {
   "cell_type": "code",
   "execution_count": 4,
   "id": "b99fb6ba-145e-4494-8065-fc5da9b01c8b",
   "metadata": {},
   "outputs": [
    {
     "name": "stdout",
     "output_type": "stream",
     "text": [
      "CPU times: user 2min 31s, sys: 13.1 s, total: 2min 44s\n",
      "Wall time: 42.7 s\n"
     ]
    }
   ],
   "source": [
    "%%time\n",
    "\n",
    "for file in fuel_list:\n",
    "    # Read in the fuel type LFM observations and associated predictor variables\n",
    "    pre_features = pd.read_csv(file, index_col=[0,1], parse_dates=True, infer_datetime_format=True)\n",
    "    # Identify the fuel type\n",
    "    fuel_type = pre_features['fuel'].iloc[0]\n",
    "\n",
    "    # Extract LFM percent as target, and drop unneeded columns from df for random forest\n",
    "    targets = pre_features['percent']\n",
    "    pre_features.drop(columns=['latitude', 'longitude', 'percent', 'fuel'], inplace=True)\n",
    "\n",
    "    # Extract optimized parameters from param_df\n",
    "    n_est = param_df.loc[fuel_type]['n_estimators']\n",
    "    n_split = param_df.loc[fuel_type]['min_samples_split']\n",
    "    n_leaf = param_df.loc[fuel_type]['min_samples_leaf']\n",
    "    max_feature_style = param_df.loc[fuel_type]['max_features']\n",
    "    n_depth = param_df.loc[fuel_type]['max_depth']\n",
    "    if pd.isna(n_depth) == True: n_depth = None\n",
    "    bootstrap_style = param_df.loc[fuel_type]['bootstrap']\n",
    "\n",
    "    # Create standardized scaler and scale predictors to a mean zero scale to reduce bias\n",
    "    scaler = StandardScaler().fit(pre_features)\n",
    "    features = pd.DataFrame(scaler.transform(pre_features), index=pre_features.index, columns=pre_features.columns.values)\n",
    "\n",
    "    # Initiate random forest model\n",
    "    rf = RandomForestRegressor(n_est, min_samples_split=n_split, min_samples_leaf = n_leaf, max_features=max_feature_style, \n",
    "                               max_depth=n_depth, bootstrap=bootstrap_style, n_jobs=-1, random_state=42)\n",
    "\n",
    "    # Train the model all of the data\n",
    "    rf.fit(features, targets)\n",
    "    # Save the model\n",
    "    joblib.dump(rf, output_path + fuel_type + '.rf.joblib', compress=3)"
   ]
  },
  {
   "cell_type": "code",
   "execution_count": null,
   "id": "5ff83952-ebe6-4f58-a4d3-413b2e79e9d1",
   "metadata": {},
   "outputs": [],
   "source": []
  }
 ],
 "metadata": {
  "kernelspec": {
   "display_name": "Python (pyclivac)",
   "language": "python",
   "name": "pyclivac"
  },
  "language_info": {
   "codemirror_mode": {
    "name": "ipython",
    "version": 3
   },
   "file_extension": ".py",
   "mimetype": "text/x-python",
   "name": "python",
   "nbconvert_exporter": "python",
   "pygments_lexer": "ipython3",
   "version": "3.7.6"
  }
 },
 "nbformat": 4,
 "nbformat_minor": 5
}
