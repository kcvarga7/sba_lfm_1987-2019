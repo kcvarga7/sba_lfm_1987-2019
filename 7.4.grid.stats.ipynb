{
 "cells": [
  {
   "cell_type": "markdown",
   "metadata": {},
   "source": [
    "## Calculate fuel and observation site specific model statistics\n",
    "Last updated: Kevin Varga, 12/31/2024\n",
    "\n",
    "**Inputs:**\n",
    "* Netcdf file of LFM of all four fuels\n",
    "* LFM observation dataframe\n",
    "\n",
    "**Outputs:**\n",
    "* Fuel specific stats for each observation site\n",
    "* Dataframe containing all fuels' observations and corresponding model outputs\n",
    "* Summary stats of all fuels"
   ]
  },
  {
   "cell_type": "code",
   "execution_count": 1,
   "metadata": {},
   "outputs": [],
   "source": [
    "import xarray as xr\n",
    "import pandas as pd\n",
    "import numpy as np\n",
    "import math\n",
    "from sklearn.metrics import r2_score\n",
    "from scipy.stats import pearsonr"
   ]
  },
  {
   "cell_type": "code",
   "execution_count": 2,
   "metadata": {},
   "outputs": [],
   "source": [
    "# Set paths\n",
    "grid_path = '/home/sbarc/students/varga/nasa/ch1/data/lfm_model/'\n",
    "obs_path = '/home/sbarc/students/varga/nasa/ch1/data/lfm_obs/'"
   ]
  },
  {
   "cell_type": "code",
   "execution_count": 3,
   "metadata": {},
   "outputs": [],
   "source": [
    "# Open LFM dataset\n",
    "lfm_ds = xr.open_dataset(grid_path + 'sba_lfm_1987-2019.nc')\n",
    "# Read in LFM observations and clean up\n",
    "obs_df = pd.read_csv(obs_path + 'lfm_crop.csv', index_col=['fuel','site','date'],\n",
    "                     parse_dates=True, infer_datetime_format=True)\n",
    "obs_df = obs_df.drop(columns=['slope', 'aspect', 'elevation', 'gacc', 'category'])\n",
    "obs_df = obs_df.rename(columns={'percent':'observed'})"
   ]
  },
  {
   "cell_type": "code",
   "execution_count": 4,
   "metadata": {},
   "outputs": [],
   "source": [
    "# Count the number of rows for each fuel\n",
    "fuel_counts = obs_df.groupby('fuel').size()\n",
    "\n",
    "# Identify fuels with at least 500 rows\n",
    "valid_fuels = fuel_counts[fuel_counts >= 500].index\n",
    "\n",
    "# Filter the DataFrame to include only rows with valid fuels\n",
    "obs_df = obs_df.loc[obs_df.index.get_level_values('fuel').isin(valid_fuels)]\n",
    "\n",
    "# Sort the index\n",
    "obs_df = obs_df.sort_index()"
   ]
  },
  {
   "cell_type": "code",
   "execution_count": 5,
   "metadata": {},
   "outputs": [],
   "source": [
    "# Cropping one column of the eastern most grid just barely cut off this observation site\n",
    "# Assign it the eastern most longitude value\n",
    "# The distance between the actual lat/lon and converted lat/lon is 45 meters\n",
    "obs_df.loc[pd.IndexSlice[:, 'bitter_canyon_castaic', :], 'longitude'] = lfm_ds['longitude'].max().values\n",
    "\n",
    "# Create columns to fill in predictions\n",
    "obs_df = obs_df.assign(predicted=np.nan, no_bias_correction=np.nan)\n",
    "\n",
    "# Filter out rows with 'date' values after last prediction time step\n",
    "end_date = lfm_ds['time'].max().values\n",
    "obs_df = obs_df.loc[pd.IndexSlice[:, :, :end_date], :]"
   ]
  },
  {
   "cell_type": "markdown",
   "metadata": {},
   "source": [
    "### Calculate fuel and observation site specific statistics"
   ]
  },
  {
   "cell_type": "code",
   "execution_count": 6,
   "metadata": {},
   "outputs": [],
   "source": [
    "# Determine fuel types\n",
    "fuels = list(lfm_ds.keys())\n",
    "\n",
    "for fuel_type in fuels:\n",
    "    # If fuel type is non bias corrected chamise, change obs_df label to just chamise\n",
    "    if fuel_type == 'chamise_no_bias_correction': \n",
    "        obs_label = 'chamise'\n",
    "    else: \n",
    "        obs_label = fuel_type\n",
    "    # Extract observation site names\n",
    "    sites = obs_df.loc[obs_label].index.get_level_values(0).unique()\n",
    "    # Create dataframe to store fuel specific site stats\n",
    "    fuel_stats_df = pd.DataFrame(index = sites, columns = ['mae','mbe','bias_std','rmse','r2','cc'])\n",
    "\n",
    "    for site_name in sites:\n",
    "        # Extract site data\n",
    "        site_df = obs_df.loc[(obs_label,site_name)]\n",
    "        # Interpolate gridded output to site observation times and location\n",
    "        predicted = lfm_ds[fuel_type].interp(time=site_df.index,\n",
    "                                             latitude=site_df['latitude'][0],\n",
    "                                             longitude=site_df['longitude'][0]\n",
    "                                            ).values\n",
    "        # If fuel type is non bias corrected chamise, save to separate column\n",
    "        if fuel_type == 'chamise_no_bias_correction': \n",
    "            obs_df.loc[(obs_label,site_name),'no_bias_correction'] = predicted\n",
    "        # Otherwise save to predicted column\n",
    "        else:\n",
    "            obs_df.loc[(obs_label,site_name),'predicted'] = predicted\n",
    "        \n",
    "        # Calculate site errors\n",
    "        errors = abs(predicted - site_df['observed'])\n",
    "        # Calculate site bias\n",
    "        bias = predicted - site_df['observed']\n",
    "        # Calculate and plug in site mean absolute error\n",
    "        fuel_stats_df.loc[site_name, 'mae'] = np.mean(errors)\n",
    "        # Calculate and plug in site mean bias error\n",
    "        fuel_stats_df.loc[site_name, 'mbe'] = np.mean(bias)\n",
    "        # Calculate and plug in site bias standard deviation\n",
    "        fuel_stats_df.loc[site_name, 'bias_std'] = np.std(bias)\n",
    "        # Calculate and plug in site root mean square error\n",
    "        fuel_stats_df.loc[site_name, 'rmse'] = math.sqrt(np.square(errors).mean())\n",
    "        # Calculate and plug in site r2\n",
    "        fuel_stats_df.loc[site_name, 'r2'] = r2_score(site_df['observed'], predicted)\n",
    "        # Calculate and plug in site pearson correlation coefficient\n",
    "        fuel_stats_df.loc[site_name, 'cc'] = pearsonr(site_df['observed'], predicted)[0]\n",
    "        \n",
    "    # Save fuel specific dataframes\n",
    "    fuel_stats_df.to_csv(grid_path + '/stats/' + fuel_type + '_site_stats.csv')\n",
    "    \n",
    "# Save observations with model predictions dataframe\n",
    "obs_df.to_csv(grid_path + '/stats/all_fuels_obs_predictions.csv')"
   ]
  },
  {
   "cell_type": "markdown",
   "metadata": {},
   "source": [
    "### Calculate final fuel specific overall statistics"
   ]
  },
  {
   "cell_type": "code",
   "execution_count": 7,
   "metadata": {},
   "outputs": [],
   "source": [
    "# Create dataframe to store overall statistics\n",
    "stats_df = pd.DataFrame(index = fuels, columns = ['mae','mbe','bias_std','rmse','r2','cc'])\n",
    "\n",
    "for fuel_type in fuels:\n",
    "    # If fuel type is non bias corrected chamise, use chamise observations   \n",
    "    if fuel_type == 'chamise_no_bias_correction':\n",
    "        fuel_df = obs_df.loc['chamise']\n",
    "        # Calculate site errors\n",
    "        errors = abs(fuel_df['no_bias_correction'] - fuel_df['observed'])\n",
    "        # Calculate site bias\n",
    "        bias = fuel_df['no_bias_correction'] - fuel_df['observed']\n",
    "        # Calculate and plug in site mean absolute error\n",
    "        stats_df.loc[fuel_type, 'mae'] = np.mean(errors)\n",
    "        # Calculate and plug in site mean bias error\n",
    "        stats_df.loc[fuel_type, 'mbe'] = np.mean(bias)\n",
    "        # Calculate and plug in site bias standard deviation\n",
    "        stats_df.loc[fuel_type, 'bias_std'] = np.std(bias)\n",
    "        # Calculate and plug in site root mean square error\n",
    "        stats_df.loc[fuel_type, 'rmse'] = math.sqrt(np.square(errors).mean())\n",
    "        # Calculate and plug in site r2\n",
    "        stats_df.loc[fuel_type, 'r2'] = r2_score(fuel_df['observed'], fuel_df['no_bias_correction'])\n",
    "        # Calculate and plug in site pearson correlation coefficient\n",
    "        stats_df.loc[fuel_type, 'cc'] = pearsonr(fuel_df['observed'], fuel_df['no_bias_correction'])[0]\n",
    "    else:\n",
    "        fuel_df = obs_df.loc[fuel_type]\n",
    "        # Calculate site errors\n",
    "        errors = abs(fuel_df['predicted'] - fuel_df['observed'])\n",
    "        # Calculate site bias\n",
    "        bias = fuel_df['predicted'] - fuel_df['observed']\n",
    "        # Calculate and plug in site mean absolute error\n",
    "        stats_df.loc[fuel_type, 'mae'] = np.mean(errors)\n",
    "        # Calculate and plug in site mean bias error\n",
    "        stats_df.loc[fuel_type, 'mbe'] = np.mean(bias)\n",
    "        # Calculate and plug in site bias standard deviation\n",
    "        stats_df.loc[fuel_type, 'bias_std'] = np.std(bias)\n",
    "        # Calculate and plug in site root mean square error\n",
    "        stats_df.loc[fuel_type, 'rmse'] = math.sqrt(np.square(errors).mean())\n",
    "        # Calculate and plug in site r2\n",
    "        stats_df.loc[fuel_type, 'r2'] = r2_score(fuel_df['observed'], fuel_df['predicted'])\n",
    "        # Calculate and plug in site pearson correlation coefficient\n",
    "        stats_df.loc[fuel_type, 'cc'] = pearsonr(fuel_df['observed'], fuel_df['predicted'])[0]\n",
    "        \n",
    "# Save summary stats dataframe\n",
    "stats_df.to_csv(grid_path + '/stats/all_fuels_stats.csv')"
   ]
  },
  {
   "cell_type": "code",
   "execution_count": null,
   "metadata": {},
   "outputs": [],
   "source": []
  }
 ],
 "metadata": {
  "kernelspec": {
   "display_name": "Python (pyclivac)",
   "language": "python",
   "name": "pyclivac"
  },
  "language_info": {
   "codemirror_mode": {
    "name": "ipython",
    "version": 3
   },
   "file_extension": ".py",
   "mimetype": "text/x-python",
   "name": "python",
   "nbconvert_exporter": "python",
   "pygments_lexer": "ipython3",
   "version": "3.7.6"
  }
 },
 "nbformat": 4,
 "nbformat_minor": 4
}
