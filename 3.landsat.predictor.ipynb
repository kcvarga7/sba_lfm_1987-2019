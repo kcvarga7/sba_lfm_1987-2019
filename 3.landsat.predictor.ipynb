{
 "cells": [
  {
   "cell_type": "markdown",
   "metadata": {},
   "source": [
    "# Combine and cleanup 33 years of Landsat NIRv data over entire spatiotemporal domain\n",
    "Last updated: Kevin Varga, 11/19/2024\n",
    "\n",
    "**Inputs:**\n",
    "* WRF land mask\n",
    "* Yearly Landsat derived NIRv geotiffs with semi-monthly, 1km frequency <br>\n",
    "\n",
    "**Outputs:**\n",
    "* /home/sbarc/students/varga/nasa/ch1/data/predictors/nirv.nc - NIRv"
   ]
  },
  {
   "cell_type": "code",
   "execution_count": 1,
   "metadata": {},
   "outputs": [],
   "source": [
    "import numpy as np\n",
    "from pathlib import Path\n",
    "import pandas as pd\n",
    "import xarray as xr\n",
    "import matplotlib.pyplot as plt"
   ]
  },
  {
   "cell_type": "code",
   "execution_count": 2,
   "metadata": {},
   "outputs": [],
   "source": [
    "def xr_landsat(da, lat, lon):\n",
    "    \"\"\"Clean up NIRv geoTIFFs downloaded from GEE algorithm and convert to WRF grid\"\"\"\n",
    "    da = da.rename({'y':'latitude', 'x':'longitude', 'band':'time'})\n",
    "    # Create time variable from the NIRv data array attributes\n",
    "    da['time'] = list(pd.to_datetime(da.attrs['long_name']))\n",
    "    da.name = 'nirv'\n",
    "    # Move spatial reference from variable to attributes\n",
    "    da.attrs = da['spatial_ref'].attrs\n",
    "    da = da.drop('spatial_ref')\n",
    "    da.attrs.pop('long_name', None)\n",
    "    # Convert NIRv grid to WRF grid\n",
    "    da = da.interp(latitude = wrf_lats, longitude = wrf_lons)\n",
    "    # Apply land mask\n",
    "    da = da.where(land_mask, drop=True)\n",
    "    # Remove any values equal to or below zero, which signifies water\n",
    "    da = da.where(da >= 0, np.nan)\n",
    "    # Remove any values above 0.5, an area threshold maximum identified\n",
    "    da = da.where(da < 0.5, np.nan)\n",
    "    return da"
   ]
  },
  {
   "cell_type": "code",
   "execution_count": 3,
   "metadata": {},
   "outputs": [],
   "source": [
    "# Function to describe an xarray data array\n",
    "def describe_da(da):\n",
    "    \"\"\"Generate descriptive statistics for an xarray DataArray.\"\"\"\n",
    "    stats = {}\n",
    "    #stats['count'] = da.notnull().sum().item()\n",
    "    stats['mean'] = da.mean().item()\n",
    "    stats['std'] = da.std().item()\n",
    "    stats['min'] = da.min().item()\n",
    "    stats['25%'] = da.quantile(0.25).item()\n",
    "    stats['50%'] = da.quantile(0.5).item()\n",
    "    stats['75%'] = da.quantile(0.75).item()\n",
    "    stats['max'] = da.max().item()\n",
    "    \n",
    "    return stats"
   ]
  },
  {
   "cell_type": "code",
   "execution_count": 4,
   "metadata": {},
   "outputs": [],
   "source": [
    "# Define paths for landsat and wrf data\n",
    "ls_path = '/home/sbarc/students/varga/nasa/ch1/data/landsat/grid/'\n",
    "wrf_path = '/home/sbarc/students/varga/nasa/ch1/data/wrf/vars/'"
   ]
  },
  {
   "cell_type": "code",
   "execution_count": 5,
   "metadata": {},
   "outputs": [],
   "source": [
    "# Create list of all Landsat files\n",
    "ls_list = sorted(list(Path(ls_path).glob('*.tif')))"
   ]
  },
  {
   "cell_type": "code",
   "execution_count": 7,
   "metadata": {},
   "outputs": [],
   "source": [
    "# Open WRF land-sea mask file for water grid point masking and conversion of NIRv grid to WRF grid\n",
    "land_mask = xr.open_dataarray(wrf_path + 'land_mask.nc')\n",
    "\n",
    "# Extract lat/lon values\n",
    "wrf_lats = land_mask['XLAT'].values[:,0]\n",
    "wrf_lons = land_mask['XLONG'].values[0,:]\n",
    "# Assign lat/lon coordinates as spatial dimensions and clean up\n",
    "land_mask['south_north'] = wrf_lats\n",
    "land_mask['west_east'] = wrf_lons\n",
    "land_mask = land_mask.rename({'south_north':'latitude', 'west_east':'longitude'})\n",
    "ex_coords = ['XLAT','XLONG','XTIME']\n",
    "land_mask = land_mask.drop(ex_coords)\n",
    "\n",
    "# Create mask for land\n",
    "land_mask = (land_mask >= 1)"
   ]
  },
  {
   "cell_type": "code",
   "execution_count": 7,
   "metadata": {},
   "outputs": [],
   "source": [
    "# Create list to store data arrays\n",
    "data_arrays = []\n",
    "\n",
    "# Loop through NIRv files, clean up, and store in list\n",
    "for file in ls_list:\n",
    "    da = xr.open_dataarray(file)\n",
    "    da = xr_landsat(da, wrf_lats, wrf_lons)\n",
    "    data_arrays.append(da)\n",
    "\n",
    "# Concatenate all NIRv data arrays together\n",
    "cat_da = xr.concat(data_arrays, dim='time')"
   ]
  },
  {
   "cell_type": "code",
   "execution_count": 9,
   "metadata": {},
   "outputs": [],
   "source": [
    "# Fill missing semi-monthly NIRv with nan\n",
    "cat_da = cat_da.resample(time='SMS').ffill(0)\n",
    "\n",
    "# crop time domain to match WRF time domain\n",
    "cat_da = cat_da.sel(time = slice('1987-07-01','2019-06-15'))\n",
    "\n",
    "# Interpolate nan values with temporal data gaps less than 90 days\n",
    "cat_da = cat_da.interpolate_na(dim='time', method='linear', max_gap=pd.Timedelta(90, 'd')) #, fill_value='extrapolate')"
   ]
  },
  {
   "cell_type": "code",
   "execution_count": 10,
   "metadata": {},
   "outputs": [
    {
     "data": {
      "text/plain": [
       "{'mean': 0.08111506997979254,\n",
       " 'std': 0.04067716991175863,\n",
       " 'min': 5.78068304931122e-09,\n",
       " '25%': 0.05136389581511788,\n",
       " '50%': 0.07295980978304087,\n",
       " '75%': 0.10302659459301938,\n",
       " 'max': 0.49542743660988126,\n",
       " 'n_nan': 11982205}"
      ]
     },
     "execution_count": 10,
     "metadata": {},
     "output_type": "execute_result"
    }
   ],
   "source": [
    "# explore stats of data array\n",
    "stats = describe_da(cat_da)\n",
    "stats['n_nan'] = cat_da.isnull().sum().item()\n",
    "stats"
   ]
  },
  {
   "cell_type": "code",
   "execution_count": 11,
   "metadata": {},
   "outputs": [],
   "source": [
    "# Save as netcdf\n",
    "cat_da.to_netcdf('/home/sbarc/students/varga/nasa/ch1/data/predictors/nirv.nc')\n",
    "cat_da.to_netcdf('/home/sbarc/students/varga/nasa/ch1/data/predictors/daily/nirv.nc')"
   ]
  }
 ],
 "metadata": {
  "kernelspec": {
   "display_name": "Python (pyclivac)",
   "language": "python",
   "name": "pyclivac"
  },
  "language_info": {
   "codemirror_mode": {
    "name": "ipython",
    "version": 3
   },
   "file_extension": ".py",
   "mimetype": "text/x-python",
   "name": "python",
   "nbconvert_exporter": "python",
   "pygments_lexer": "ipython3",
   "version": "3.7.6"
  }
 },
 "nbformat": 4,
 "nbformat_minor": 4
}
