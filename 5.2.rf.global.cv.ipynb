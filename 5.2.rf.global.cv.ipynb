{
 "cells": [
  {
   "cell_type": "markdown",
   "id": "3a7cf4cb-46bf-48ae-b9d5-c43b65916bd7",
   "metadata": {},
   "source": [
    "# 5-fold cross validation random forest algorithm for individual fuel types\n",
    "Last updated: Kevin Varga, 11/27/2024\n",
    "\n",
    "**Inputs:**\n",
    "* Fuel specific dataframes with predictor variables for every LFM observation\n",
    "\n",
    "**Outputs:**\n",
    "* Fuel specific csv files with global model statistics from 5-fold cross validation"
   ]
  },
  {
   "cell_type": "code",
   "execution_count": 1,
   "id": "ca9d5851-06cf-4ff5-88e0-14c960a02cba",
   "metadata": {},
   "outputs": [],
   "source": [
    "import numpy as np\n",
    "import pandas as pd\n",
    "from pathlib import Path"
   ]
  },
  {
   "cell_type": "code",
   "execution_count": 2,
   "id": "c1e68302-0733-4844-9c20-801dcfca5a4f",
   "metadata": {},
   "outputs": [],
   "source": [
    "from sklearn.ensemble import RandomForestRegressor\n",
    "from sklearn.model_selection import cross_validate\n",
    "from sklearn.model_selection import train_test_split\n",
    "from sklearn.preprocessing import StandardScaler"
   ]
  },
  {
   "cell_type": "code",
   "execution_count": 4,
   "id": "2424d38a-32ea-40a7-8619-1db8f78d85a0",
   "metadata": {
    "tags": []
   },
   "outputs": [],
   "source": [
    "pred_path = '/home/sbarc/students/varga/nasa/ch1/data/site_predictors/'\n",
    "param_path = '/home/sbarc/students/varga/nasa/ch1/data/random_forest/'\n",
    "output_path = '/home/sbarc/students/varga/nasa/ch1/data/random_forest/global/'\n",
    "fuel_list = list(Path(pred_path).glob('*.csv'))\n",
    "# Read in hyperparameter tuning dataframe\n",
    "param_df = pd.read_csv(param_path + 'param_tuning.csv', index_col='fuel')"
   ]
  },
  {
   "cell_type": "code",
   "execution_count": 5,
   "id": "8af87df8-3a0f-4763-a626-07265407b254",
   "metadata": {
    "tags": []
   },
   "outputs": [
    {
     "name": "stdout",
     "output_type": "stream",
     "text": [
      "CPU times: user 876 ms, sys: 853 ms, total: 1.73 s\n",
      "Wall time: 41 s\n"
     ]
    }
   ],
   "source": [
    "%%time\n",
    "# Create list of desired cross validation scoring\n",
    "scoring_list = ['explained_variance','max_error','neg_mean_absolute_error','neg_root_mean_squared_error','r2']\n",
    "\n",
    "# Loop through individual fuel type dataframes\n",
    "for file in fuel_list:\n",
    "    # Read in the fuel type LFM observations and associated predictor variables\n",
    "    pre_features = pd.read_csv(file, index_col=[0,1], parse_dates=True, infer_datetime_format=True)\n",
    "    # Identify the fuel type\n",
    "    fuel = pre_features['fuel'].iloc[0]\n",
    "    \n",
    "    # Reset index, extract LFM percent as target, and drop unneeded columns from df for random forest\n",
    "    pre_features.reset_index(drop=True, inplace=True)\n",
    "    targets = pre_features['percent']\n",
    "    pre_features.drop(columns=['latitude', 'longitude', 'percent', 'fuel'], inplace=True)\n",
    "\n",
    "    # Create standardized scaler and scale predictors to a mean zero scale to reduce bias\n",
    "    scaler = StandardScaler().fit(pre_features)\n",
    "    features = pd.DataFrame(scaler.transform(pre_features), index=pre_features.index.values, columns=pre_features.columns.values)\n",
    "\n",
    "    # Extract optimized parameters from param_df\n",
    "    n_est = param_df.loc[fuel]['n_estimators']\n",
    "    n_split = param_df.loc[fuel]['min_samples_split']\n",
    "    n_leaf = param_df.loc[fuel]['min_samples_leaf']\n",
    "    max_feature_style = param_df.loc[fuel]['max_features']\n",
    "    n_depth = param_df.loc[fuel]['max_depth']\n",
    "    if pd.isna(n_depth) == True: n_depth = None\n",
    "    bootstrap_style = param_df.loc[fuel]['bootstrap']\n",
    "\n",
    "    # Initiate random forest model\n",
    "    rf = RandomForestRegressor(n_est, min_samples_split=n_split, min_samples_leaf = n_leaf, max_features=max_feature_style,\n",
    "                               max_depth=n_depth, bootstrap=bootstrap_style, n_jobs=-1, random_state=42)\n",
    "\n",
    "    # Run 5-fold cross validation with model\n",
    "    results = cross_validate(rf, features, targets,\n",
    "                                  cv=5,\n",
    "                                  scoring=scoring_list,\n",
    "                                  n_jobs=-1)\n",
    "    \n",
    "    # Save results to a dataframe/csv\n",
    "    results_df = pd.DataFrame(results)\n",
    "    results_df.to_csv(output_path + fuel + '.csv', index=False)"
   ]
  },
  {
   "cell_type": "code",
   "execution_count": null,
   "id": "5b1a0af4-9f7d-4502-a5a2-5eb23eee2e20",
   "metadata": {},
   "outputs": [],
   "source": []
  }
 ],
 "metadata": {
  "kernelspec": {
   "display_name": "Python (pyclivac)",
   "language": "python",
   "name": "pyclivac"
  },
  "language_info": {
   "codemirror_mode": {
    "name": "ipython",
    "version": 3
   },
   "file_extension": ".py",
   "mimetype": "text/x-python",
   "name": "python",
   "nbconvert_exporter": "python",
   "pygments_lexer": "ipython3",
   "version": "3.7.6"
  }
 },
 "nbformat": 4,
 "nbformat_minor": 5
}
