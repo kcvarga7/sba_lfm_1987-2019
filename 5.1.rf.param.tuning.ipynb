{
 "cells": [
  {
   "cell_type": "markdown",
   "id": "3a7cf4cb-46bf-48ae-b9d5-c43b65916bd7",
   "metadata": {},
   "source": [
    "# Random forest hyperparameter tuning for individual fuel types\n",
    "Last updated: Kevin Varga, 11/21/2024\n",
    "\n",
    "**Inputs:**\n",
    "* Fuel specific dataframes with predictor variables for every LFM observation\n",
    "\n",
    "**Outputs:**\n",
    "* Dataframe with optimized random forest parameters for each fuel type"
   ]
  },
  {
   "cell_type": "code",
   "execution_count": 1,
   "id": "ca9d5851-06cf-4ff5-88e0-14c960a02cba",
   "metadata": {},
   "outputs": [],
   "source": [
    "import numpy as np\n",
    "import pandas as pd\n",
    "from pathlib import Path\n",
    "from pprint import pprint"
   ]
  },
  {
   "cell_type": "code",
   "execution_count": 2,
   "id": "c1e68302-0733-4844-9c20-801dcfca5a4f",
   "metadata": {},
   "outputs": [],
   "source": [
    "# Hyper parameter tuning packages\n",
    "from sklearn.model_selection import RandomizedSearchCV\n",
    "from sklearn.ensemble import RandomForestRegressor\n",
    "from sklearn.model_selection import train_test_split\n",
    "from sklearn.preprocessing import StandardScaler"
   ]
  },
  {
   "cell_type": "code",
   "execution_count": 3,
   "id": "2424d38a-32ea-40a7-8619-1db8f78d85a0",
   "metadata": {
    "tags": []
   },
   "outputs": [],
   "source": [
    "pred_path = '/home/sbarc/students/varga/nasa/ch1/data/site_predictors/'\n",
    "output_path = '/home/sbarc/students/varga/nasa/ch1/data/random_forest/'\n",
    "fuel_list = list(Path(pred_path).glob('*.csv'))"
   ]
  },
  {
   "cell_type": "markdown",
   "id": "5dcb72b1-5271-4f81-8736-53faa83f5fd0",
   "metadata": {},
   "source": [
    "## Hyperparameter Tuning with Random Grid"
   ]
  },
  {
   "cell_type": "code",
   "execution_count": 4,
   "id": "d764c8d0-d67c-4ae3-8595-370f5405bd47",
   "metadata": {},
   "outputs": [
    {
     "name": "stdout",
     "output_type": "stream",
     "text": [
      "{'bootstrap': [True, False],\n",
      " 'max_depth': [10, 20, 30, 40, 50, 60, 70, 80, 90, 100, 110, None],\n",
      " 'max_features': ['auto', 'sqrt'],\n",
      " 'min_samples_leaf': [1, 2, 4],\n",
      " 'min_samples_split': [2, 5, 10],\n",
      " 'n_estimators': [200, 400, 600, 800, 1000, 1200, 1400, 1600, 1800, 2000]}\n"
     ]
    }
   ],
   "source": [
    "# General process was pulled from: \n",
    "# https://towardsdatascience.com/hyperparameter-tuning-the-random-forest-in-python-using-scikit-learn-28d2aa77dd74\n",
    "\n",
    "#To use RandomizedSearchCV, we first need to create a parameter grid to sample from during fitting:\n",
    "\n",
    "# Number of trees in random forest\n",
    "n_estimators = [int(x) for x in np.linspace(start = 200, stop = 2000, num = 10)]\n",
    "# Number of features to consider at every split\n",
    "max_features = ['auto', 'sqrt']\n",
    "# Maximum number of levels in tree\n",
    "max_depth = [int(x) for x in np.linspace(10, 110, num = 11)]\n",
    "max_depth.append(None)\n",
    "# Minimum number of samples required to split a node\n",
    "min_samples_split = [2, 5, 10]\n",
    "# Minimum number of samples required at each leaf node\n",
    "min_samples_leaf = [1, 2, 4]\n",
    "# Method of selecting samples for training each tree\n",
    "bootstrap = [True, False]\n",
    "# Create the random grid\n",
    "random_grid = {'n_estimators': n_estimators, \\\n",
    "               'max_features': max_features, \\\n",
    "               'max_depth': max_depth, \\\n",
    "               'min_samples_split': min_samples_split, \\\n",
    "               'min_samples_leaf': min_samples_leaf, \\\n",
    "               'bootstrap': bootstrap}\n",
    "pprint(random_grid)"
   ]
  },
  {
   "cell_type": "code",
   "execution_count": 5,
   "id": "efbc8d43-8bcb-47c0-adfb-eb358e419ecc",
   "metadata": {
    "tags": []
   },
   "outputs": [
    {
     "name": "stderr",
     "output_type": "stream",
     "text": [
      "/home/sbarc/students/varga/miniconda3/envs/pyclivac/lib/python3.7/site-packages/joblib/externals/loky/process_executor.py:705: UserWarning: A worker stopped while some jobs were given to the executor. This can be caused by a too short worker timeout or by a memory leak.\n",
      "  \"timeout or by a memory leak.\", UserWarning\n"
     ]
    },
    {
     "name": "stdout",
     "output_type": "stream",
     "text": [
      "CPU times: user 1min 2s, sys: 2.06 s, total: 1min 4s\n",
      "Wall time: 15min 6s\n"
     ]
    }
   ],
   "source": [
    "%%time\n",
    "\n",
    "# Create dataframe to save fuel specific tuned parameters\n",
    "param_df = pd.DataFrame(columns = random_grid.keys())\n",
    "\n",
    "# Loop through all fuel type csv files\n",
    "for file in fuel_list:\n",
    "    \n",
    "    # Read in fuel type csv\n",
    "    pre_features = pd.read_csv(file, index_col=[0,1], parse_dates=True, infer_datetime_format=True)\n",
    "    fuel = pre_features['fuel'].iloc[0]\n",
    "\n",
    "    # Drop rows with nan as nan values cannot be included in the model\n",
    "    #print(fuel, '# obs before dropna: ', len(pre_features))\n",
    "    pre_features = pre_features.dropna()\n",
    "    #print(fuel, '# obs: ', len(pre_features))\n",
    "\n",
    "    # Reset index, extract LFM percent as target, and drop unneeded columns from df for random forest\n",
    "    pre_features = pre_features.reset_index(drop=True)\n",
    "    targets = pre_features['percent']\n",
    "    pre_features = pre_features.drop(columns=['latitude', 'longitude', 'percent', 'fuel'])\n",
    "\n",
    "    # Scale the features to have a zero mean\n",
    "    scaler = StandardScaler().fit(pre_features)\n",
    "    features = pd.DataFrame(scaler.transform(pre_features), index=pre_features.index.values, columns=pre_features.columns.values)\n",
    "\n",
    "    # Use the random grid to search for best hyperparameters\n",
    "    # First create the base model to tune\n",
    "    rf = RandomForestRegressor()\n",
    "    # Random search of parameters, using 5 fold cross validation, \n",
    "    # search across 100 different combinations, and use all available cores    \n",
    "    rf_random = RandomizedSearchCV(estimator = rf, param_distributions = random_grid, n_iter = 100, cv = 5, random_state=42, n_jobs = -1)    \n",
    "    # Fit the random search model\n",
    "    #print('Started: ' + dt.now().strftime('%H:%M:%S'))\n",
    "    rf_random.fit(features, targets)\n",
    "    #print('Finished: ' + dt.now().strftime('%H:%M:%S') + '\\n')\n",
    "\n",
    "    param_df.loc[fuel] = rf_random.best_params_\n",
    "\n",
    "\n",
    "param_df.to_csv(output_path + 'param_tuning.csv', index_label='fuel')"
   ]
  }
 ],
 "metadata": {
  "kernelspec": {
   "display_name": "Python (pyclivac)",
   "language": "python",
   "name": "pyclivac"
  },
  "language_info": {
   "codemirror_mode": {
    "name": "ipython",
    "version": 3
   },
   "file_extension": ".py",
   "mimetype": "text/x-python",
   "name": "python",
   "nbconvert_exporter": "python",
   "pygments_lexer": "ipython3",
   "version": "3.7.6"
  }
 },
 "nbformat": 4,
 "nbformat_minor": 5
}
