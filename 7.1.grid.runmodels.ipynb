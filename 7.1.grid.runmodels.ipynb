{
 "cells": [
  {
   "cell_type": "markdown",
   "metadata": {},
   "source": [
    "## Run fuel specific, LFM random forest models over entire spatiotemporal domain\n",
    "Last updated: Kevin Varga, 11/27/2024\n",
    "\n",
    "**Inputs:**\n",
    "* Gridded predictor variables\n",
    "* Fuel specific random forest models\n",
    "\n",
    "**Outputs:**\n",
    "* Netcdf file of predicted LFM of all fuels"
   ]
  },
  {
   "cell_type": "code",
   "execution_count": 5,
   "metadata": {},
   "outputs": [],
   "source": [
    "import numpy as np\n",
    "import matplotlib.pyplot as plt\n",
    "import xarray as xr\n",
    "import pandas as pd\n",
    "from pathlib import Path\n",
    "\n",
    "import joblib\n",
    "from sklearn.preprocessing import StandardScaler"
   ]
  },
  {
   "cell_type": "code",
   "execution_count": 6,
   "metadata": {},
   "outputs": [],
   "source": [
    "# Set paths\n",
    "pred_path = '/home/sbarc/students/varga/nasa/ch1/data/predictors/'\n",
    "rf_path = '/home/sbarc/students/varga/nasa/ch1/data/random_forest/'\n",
    "grid_path = '/home/sbarc/students/varga/nasa/ch1/data/lfm_model/'"
   ]
  },
  {
   "cell_type": "code",
   "execution_count": 7,
   "metadata": {},
   "outputs": [],
   "source": [
    "# Open land/water data array and mask to land\n",
    "land_mask = xr.open_dataarray('/home/sbarc/students/varga/nasa/ch1/data/wrf/vars/land_mask_crop.nc')\n",
    "land_mask = land_mask.where(land_mask == 1, np.nan)\n",
    "\n",
    "# Find where the land_mask is not NaN\n",
    "valid_indices = np.argwhere(~np.isnan(land_mask.values[:, :]))"
   ]
  },
  {
   "cell_type": "code",
   "execution_count": 8,
   "metadata": {
    "tags": []
   },
   "outputs": [],
   "source": [
    "# Create list of all predictors\n",
    "pred_list = sorted(list(Path(pred_path).glob('*.nc')))"
   ]
  },
  {
   "cell_type": "code",
   "execution_count": 9,
   "metadata": {},
   "outputs": [],
   "source": [
    "# Open each predictor netCDF file and store the DataArrays in a list\n",
    "data_arrays = [xr.open_dataarray(file) for file in pred_list]\n",
    "\n",
    "# Merge predictor data arrays\n",
    "ds = xr.merge(data_arrays)\n",
    "# Subset to time domain\n",
    "ds = ds.sel(time = slice('1987-12-01','2019-06-15'))\n",
    "# Mask to land\n",
    "ds = ds.where(land_mask)"
   ]
  },
  {
   "cell_type": "code",
   "execution_count": 10,
   "metadata": {},
   "outputs": [],
   "source": [
    "# Create a new dataset with the same coordinates and desired fuels\n",
    "time = ds['time']\n",
    "latitude = land_mask['latitude']\n",
    "longitude = land_mask['longitude']\n",
    "fuel_vars = {\n",
    "    'chamise': (['time', 'latitude', 'longitude'], np.full((len(ds['time']),len(latitude),len(longitude)), np.nan)),\n",
    "    'chamise_old_growth': (['time', 'latitude', 'longitude'], np.full((len(ds['time']),len(latitude),len(longitude)), np.nan)),\n",
    "    'sage_black': (['time', 'latitude', 'longitude'], np.full((len(ds['time']),len(latitude),len(longitude)), np.nan)),\n",
    "    'ceanothus_bigpod': (['time', 'latitude', 'longitude'], np.full((len(ds['time']),len(latitude),len(longitude)), np.nan))\n",
    "}\n",
    "lfm_ds = xr.Dataset(fuel_vars, coords={'time': time, 'latitude': latitude, 'longitude': longitude})"
   ]
  },
  {
   "cell_type": "code",
   "execution_count": 11,
   "metadata": {},
   "outputs": [],
   "source": [
    "# Create lists of fuel types and predictor variables\n",
    "fuels = ['chamise', 'chamise_old_growth', 'sage_black', 'ceanothus_bigpod']"
   ]
  },
  {
   "cell_type": "code",
   "execution_count": 26,
   "metadata": {},
   "outputs": [
    {
     "name": "stdout",
     "output_type": "stream",
     "text": [
      "0\n",
      "1000\n",
      "2000\n",
      "3000\n",
      "4000\n",
      "5000\n",
      "6000\n",
      "7000\n",
      "8000\n",
      "9000\n",
      "10000\n",
      "11000\n",
      "12000\n",
      "13000\n",
      "14000\n",
      "15000\n",
      "16000\n",
      "17000\n",
      "18000\n",
      "19000\n",
      "20000\n",
      "21000\n",
      "22000\n",
      "23000\n",
      "24000\n",
      "25000\n",
      "26000\n",
      "27000\n",
      "28000\n",
      "29000\n",
      "CPU times: user 9h 12min 47s, sys: 2h 3min 44s, total: 11h 16min 32s\n",
      "Wall time: 8h 6min 42s\n"
     ]
    }
   ],
   "source": [
    "%%time\n",
    "for fuel_type in fuels:\n",
    "    print('started ' + fuel_type)\n",
    "    # Load fuel specific random forest model\n",
    "    fuel_rf = joblib.load(rf_path + fuel_type + '.rf.joblib')\n",
    "\n",
    "    for i, (lat,lon) in enumerate(valid_indices):\n",
    "        # Use to monitor\n",
    "        #if ((i/1000).is_integer() == True): print(i)\n",
    "        # Convert time step to pandas dataframe\n",
    "        df = ds.isel(latitude = lat, longitude=lon).to_dataframe()\n",
    "        # Save original index\n",
    "        ridx = df.index\n",
    "        # Drop location columns and NaN values\n",
    "        df.drop(columns=['latitude','longitude'], inplace=True)\n",
    "        df.dropna(inplace=True)\n",
    "        # Scale predictor variables\n",
    "        scaler = StandardScaler().fit(df)\n",
    "        predictors_scaled = pd.DataFrame(scaler.transform(df),\n",
    "                                         index=df.index,\n",
    "                                         columns=df.columns.values)\n",
    "        # Run the random forest\n",
    "        predicted_lfm = fuel_rf.predict(predictors_scaled)\n",
    "        # Save predicted LFM as dataframe and reindex to original index\n",
    "        predicted_s = pd.Series(predicted_lfm, index = df.index)\n",
    "        predicted_s = predicted_s.reindex(ridx)\n",
    "        # Save values into dataset\n",
    "        lfm_ds[fuel_type][:,lat,lon] = predicted_s.values\n",
    "\n",
    "lfm_ds.to_netcdf(grid_path + 'predicted_ds.nc')"
   ]
  }
 ],
 "metadata": {
  "kernelspec": {
   "display_name": "Python (pyclivac)",
   "language": "python",
   "name": "pyclivac"
  },
  "language_info": {
   "codemirror_mode": {
    "name": "ipython",
    "version": 3
   },
   "file_extension": ".py",
   "mimetype": "text/x-python",
   "name": "python",
   "nbconvert_exporter": "python",
   "pygments_lexer": "ipython3",
   "version": "3.7.6"
  }
 },
 "nbformat": 4,
 "nbformat_minor": 4
}
